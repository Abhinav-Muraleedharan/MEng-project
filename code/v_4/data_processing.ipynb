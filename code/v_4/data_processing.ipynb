{
 "cells": [
  {
   "cell_type": "code",
   "execution_count": 2,
   "metadata": {},
   "outputs": [],
   "source": [
    "import torch\n",
    "import matplotlib.pyplot as plt\n",
    "import numpy as np \n",
    "import os\n",
    "from PIL import Image\n",
    "import torchvision.transforms as T"
   ]
  },
  {
   "cell_type": "code",
   "execution_count": 3,
   "metadata": {},
   "outputs": [],
   "source": [
    "# Assuming binary_vector is your binary vector of length 130\n",
    "binary_vector = torch.randint(0, 2, (130,))  # Example vector, replace with your vector"
   ]
  },
  {
   "cell_type": "code",
   "execution_count": 4,
   "metadata": {},
   "outputs": [
    {
     "name": "stdout",
     "output_type": "stream",
     "text": [
      "X_neural.npy             \u001b[34mdataset\u001b[m\u001b[m/                 readme.txt\n",
      "Y_target.npy             download.py              test.nwb\n",
      "Z.npy                    evals.py                 train.py\n",
      "\u001b[34m__pycache__\u001b[m\u001b[m/             \u001b[34mimage_data\u001b[m\u001b[m/              visualize_dataset.ipynb\n",
      "data_processing.ipynb    model.py\n",
      "data_processing.py       plot_results.py\n"
     ]
    }
   ],
   "source": [
    "%ls"
   ]
  },
  {
   "cell_type": "code",
   "execution_count": 5,
   "metadata": {},
   "outputs": [
    {
     "name": "stdout",
     "output_type": "stream",
     "text": [
      "[[0. 0. 0. ... 0. 0. 0.]\n",
      " [0. 0. 0. ... 0. 0. 0.]\n",
      " [0. 0. 0. ... 0. 0. 0.]\n",
      " ...\n",
      " [0. 0. 0. ... 0. 0. 0.]\n",
      " [0. 0. 0. ... 0. 0. 0.]\n",
      " [0. 0. 0. ... 0. 0. 0.]]\n"
     ]
    }
   ],
   "source": [
    "Z = np.load('Z.npy')\n",
    "print(Z)\n",
    "z_tensor = torch.tensor(Z[805])"
   ]
  },
  {
   "cell_type": "code",
   "execution_count": 6,
   "metadata": {},
   "outputs": [
    {
     "name": "stdout",
     "output_type": "stream",
     "text": [
      "649100\n"
     ]
    }
   ],
   "source": [
    "print(Z.shape[0])"
   ]
  },
  {
   "cell_type": "code",
   "execution_count": 68,
   "metadata": {},
   "outputs": [],
   "source": [
    "# define a transform to convert a tensor to PIL image\n",
    "transform = T.ToPILImage()\n",
    "\n",
    "for i in range(Z.shape[0]):\n",
    "    z_tensor = torch.tensor(Z[i])\n",
    "    binary_vector = z_tensor*255\n",
    "    # Create a 64x64 black image\n",
    "    embedded_image = torch.zeros((64, 64), dtype=torch.float32)\n",
    "    # Reshape the binary vector (13x10)\n",
    "    reshaped_vector = binary_vector.view(13, 10)\n",
    "    # Calculate the starting indices to center the 13x10 tensor\n",
    "    start_idx_x = (embedded_image.shape[0] - reshaped_vector.shape[0]) // 2\n",
    "    start_idx_y = (embedded_image.shape[1] - reshaped_vector.shape[1]) // 2\n",
    "    # Place the reshaped vector into the image\n",
    "    embedded_image[start_idx_x:start_idx_x + reshaped_vector.shape[0], \n",
    "               start_idx_y:start_idx_y + reshaped_vector.shape[1]] = reshaped_vector\n",
    "    \n",
    "    # convert the tensor to PIL image using above transform\n",
    "    img = transform(embedded_image)\n",
    "    # Specify the folder and filename\n",
    "    folder_name = 'image_data'\n",
    "    file_name = f'image_{i}.png'\n",
    "    path = os.path.join(folder_name, file_name)\n",
    "    # Ensure the folder exists\n",
    "    os.makedirs(folder_name, exist_ok=True)\n",
    "    # Save the image\n",
    "    img.save(path)\n",
    "    \n",
    "    "
   ]
  },
  {
   "cell_type": "code",
   "execution_count": 12,
   "metadata": {},
   "outputs": [
    {
     "name": "stdout",
     "output_type": "stream",
     "text": [
      "Are there any NaN entries in the matrix? False\n"
     ]
    }
   ],
   "source": [
    "\n",
    "import numpy as np\n",
    "\n",
    "# Load the numpy matrix from the .npy file\n",
    "y_target = np.load('Y_target.npy')\n",
    "\n",
    "# Check if there are any NaN entries in the matrix\n",
    "nan_exists = np.isnan(y_target).any()\n",
    "\n",
    "print(\"Are there any NaN entries in the matrix?\", nan_exists)\n"
   ]
  },
  {
   "cell_type": "code",
   "execution_count": 13,
   "metadata": {},
   "outputs": [
    {
     "name": "stdout",
     "output_type": "stream",
     "text": [
      "[[-4.35769473 56.75806327 94.73778125]\n",
      " [-4.35647098 56.75569649 94.73666161]\n",
      " [-4.35522247 56.75329688 94.73551949]\n",
      " ...\n",
      " [21.90995401 21.77606878 87.76422022]\n",
      " [21.90963425 21.77632579 87.76435014]\n",
      " [21.90931683 21.77658182 87.76448458]]\n"
     ]
    }
   ],
   "source": [
    "print(y_target)"
   ]
  },
  {
   "cell_type": "code",
   "execution_count": 14,
   "metadata": {},
   "outputs": [
    {
     "name": "stdout",
     "output_type": "stream",
     "text": [
      "Mean Vector:\n",
      "[-0.29886825 59.50479278 89.45908063]\n",
      "\n",
      "Covariance Matrix:\n",
      "[[794.57038487   6.49999934   8.05755636]\n",
      " [  6.49999934 771.36593415   2.3961271 ]\n",
      " [  8.05755636   2.3961271   10.02010849]]\n"
     ]
    }
   ],
   "source": [
    "mean_vector = np.mean(y_target, axis=0)\n",
    "covariance_matrix = np.cov(y_target, rowvar=False)\n",
    "\n",
    "print(\"Mean Vector:\")\n",
    "print(mean_vector)\n",
    "\n",
    "print(\"\\nCovariance Matrix:\")\n",
    "print(covariance_matrix)"
   ]
  },
  {
   "cell_type": "markdown",
   "metadata": {},
   "source": []
  },
  {
   "cell_type": "code",
   "execution_count": 69,
   "metadata": {},
   "outputs": [],
   "source": [
    "val = 0 \n",
    "i = 0 \n"
   ]
  },
  {
   "cell_type": "code",
   "execution_count": 74,
   "metadata": {},
   "outputs": [],
   "source": [
    "for el in y_target:\n",
    "    diff = el-mean_vector\n",
    "    val =  val + np.sum(diff**2)\n",
    "    i = i + 1\n",
    "    if i == 500000:\n",
    "        print(\"here\")\n",
    "        # break"
   ]
  },
  {
   "cell_type": "code",
   "execution_count": 75,
   "metadata": {},
   "outputs": [
    {
     "name": "stdout",
     "output_type": "stream",
     "text": [
      "1823124317.9354844\n"
     ]
    }
   ],
   "source": [
    "print(val)"
   ]
  },
  {
   "cell_type": "code",
   "execution_count": 76,
   "metadata": {},
   "outputs": [
    {
     "name": "stdout",
     "output_type": "stream",
     "text": [
      "1586.567155108767\n"
     ]
    }
   ],
   "source": [
    "print(val/i)"
   ]
  },
  {
   "cell_type": "code",
   "execution_count": 73,
   "metadata": {},
   "outputs": [
    {
     "data": {
      "text/plain": [
       "0.3125"
      ]
     },
     "execution_count": 73,
     "metadata": {},
     "output_type": "execute_result"
    }
   ],
   "source": [
    "500/1600"
   ]
  },
  {
   "cell_type": "code",
   "execution_count": 8,
   "metadata": {},
   "outputs": [],
   "source": [
    "y_target_no_nan = np.nan_to_num(y_target)\n"
   ]
  },
  {
   "cell_type": "code",
   "execution_count": 9,
   "metadata": {},
   "outputs": [
    {
     "name": "stdout",
     "output_type": "stream",
     "text": [
      "Are there any NaN entries in the matrix? False\n"
     ]
    }
   ],
   "source": [
    "nan_exists = np.isnan(y_target_no_nan).any()\n",
    "\n",
    "print(\"Are there any NaN entries in the matrix?\", nan_exists)"
   ]
  },
  {
   "cell_type": "code",
   "execution_count": 10,
   "metadata": {},
   "outputs": [],
   "source": [
    "np.save('Y_target.npy', y_target_no_nan)"
   ]
  },
  {
   "cell_type": "code",
   "execution_count": 65,
   "metadata": {},
   "outputs": [
    {
     "name": "stdout",
     "output_type": "stream",
     "text": [
      "Image saved to image_data/my_image.png\n"
     ]
    }
   ],
   "source": [
    "\n",
    "\n",
    "print(f\"Image saved to {path}\")"
   ]
  },
  {
   "cell_type": "code",
   "execution_count": 55,
   "metadata": {},
   "outputs": [
    {
     "data": {
      "text/plain": [
       "<Figure size 640x480 with 0 Axes>"
      ]
     },
     "metadata": {},
     "output_type": "display_data"
    }
   ],
   "source": [
    "# Ensure the 'image_data' folder exists\n",
    "os.makedirs('image_data', exist_ok=True)\n",
    "\n",
    "# Save the image to the 'image_data' folder\n",
    "plt.savefig('image_data/centered_binary_vector.png')\n"
   ]
  },
  {
   "cell_type": "code",
   "execution_count": null,
   "metadata": {},
   "outputs": [],
   "source": []
  }
 ],
 "metadata": {
  "kernelspec": {
   "display_name": "meng",
   "language": "python",
   "name": "python3"
  },
  "language_info": {
   "codemirror_mode": {
    "name": "ipython",
    "version": 3
   },
   "file_extension": ".py",
   "mimetype": "text/x-python",
   "name": "python",
   "nbconvert_exporter": "python",
   "pygments_lexer": "ipython3",
   "version": "3.8.18"
  }
 },
 "nbformat": 4,
 "nbformat_minor": 2
}
